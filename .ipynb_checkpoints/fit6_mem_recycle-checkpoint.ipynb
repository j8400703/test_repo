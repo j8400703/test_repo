{
 "cells": [
  {
   "cell_type": "code",
   "execution_count": null,
   "metadata": {},
   "outputs": [],
   "source": [
    "import numpy as np\n",
    "import pandas as pd\n",
    "from tqdm import tqdm\n",
    "import gc\n",
    "from fit6w import *\n",
    "##\n",
    "frame = [8,9,10,11]\n",
    "band_num = [3]\n",
    "##\n",
    "for f in range(0,len(frame)):\n",
    "    in_folder = './'+str(frame[f])\n",
    "    band = band_num[0]\n",
    "    empty = np.zeros((9,2000,2000)) #Prepare an array to store parameter from fit6 result.\n",
    "    ##\n",
    "    value_array, img_datelist = fit6_value(in_folder,band)\n",
    "\n",
    "    ## 2000/2000\n",
    "    for a in tqdm(range(0,value_array.shape[1])): ## arr.shape[1]求矩陣在axis-1上有幾個pixel(南北方向)\n",
    "        for b in range(0,value_array.shape[2]):  ## arr.shape[1]求矩陣在axis-1上有幾個pixel(東西方向)\n",
    "            val_array = value_array[:,a,b].tolist()\n",
    "            df = pd.DataFrame({'date':img_datelist,'value':val_array})\n",
    "            df = df.sort_values(by='date',axis=0,ascending=True)\n",
    "\n",
    "            Date = df['date'].tolist()\n",
    "            VV = df['value'].tolist()\n",
    "            V = [x/10000 for x in VV]\n",
    "            ##\n",
    "            aa = fit6(Date,V)\n",
    "            ##\n",
    "            for i in range(0,len(aa)):\n",
    "                empty[i,a,b] = aa[i]\n",
    "    npz = str(frame[f])+'B03'\n",
    "    np.savez(npz, empty)\n",
    "    print(npz)\n",
    "    \n",
    "    del empty\n",
    "    del value_array\n",
    "    gc.collect()\n"
   ]
  }
 ],
 "metadata": {
  "kernelspec": {
   "display_name": "Python 3 (ipykernel)",
   "language": "python",
   "name": "python3"
  },
  "language_info": {
   "codemirror_mode": {
    "name": "ipython",
    "version": 3
   },
   "file_extension": ".py",
   "mimetype": "text/x-python",
   "name": "python",
   "nbconvert_exporter": "python",
   "pygments_lexer": "ipython3",
   "version": "3.10.8"
  },
  "vscode": {
   "interpreter": {
    "hash": "916dbcbb3f70747c44a77c7bcd40155683ae19c65e1c03b4aa3499c5328201f1"
   }
  }
 },
 "nbformat": 4,
 "nbformat_minor": 2
}
